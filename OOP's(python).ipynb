{
 "cells": [
  {
   "cell_type": "code",
   "execution_count": 1,
   "metadata": {},
   "outputs": [
    {
     "name": "stdout",
     "output_type": "stream",
     "text": [
      "[161315813115, 7013731028]\n"
     ]
    }
   ],
   "source": [
    "class found:\n",
    "    def cal(self,x,y):\n",
    "        return [x*y,x+y]\n",
    "f=found()\n",
    "f.name=\"vinay\"\n",
    "f.id=23\n",
    "f.pno=7013731005\n",
    "print(f.cal(f.id,f.pno))"
   ]
  },
  {
   "cell_type": "code",
   "execution_count": 2,
   "metadata": {},
   "outputs": [
    {
     "name": "stdout",
     "output_type": "stream",
     "text": [
      "[4, 8]\n",
      "4\n",
      "8\n",
      "99\n",
      "607\n",
      "the big number is: 8\n",
      "None\n",
      "[99, 607]\n",
      "99\n",
      "607\n",
      "99\n",
      "607\n",
      "the big number is: 607\n",
      "None\n"
     ]
    }
   ],
   "source": [
    "class kj:\n",
    "    def __init__(self,Name,Age,x,y):\n",
    "        self.Name=Name\n",
    "        self.Age=Age\n",
    "        self.x=x\n",
    "        self.y=y\n",
    "    def upo(self,x,y):\n",
    "        print([x,y])\n",
    "        print(x)\n",
    "        print(y)\n",
    "        print(self.x)\n",
    "        print(self.y)\n",
    "        if(x>y):\n",
    "            print(f\"the big number is: {x}\")\n",
    "        elif(y>x):\n",
    "            print(f\"the big number is: {y}\")\n",
    "        else:\n",
    "            print(\"the bot are equle!!\")\n",
    "    \n",
    "ui=kj(\"vinay\",12,99,607)\n",
    "\n",
    "print(ui.upo(4,8))#in here we just giving raw values as input from outside!!\n",
    "print(ui.upo(ui.x,ui.y))#in this we are giving the input from the out side but not the direct value instead we r giving the class variables to the method!!\n",
    "\n",
    "\n"
   ]
  },
  {
   "cell_type": "markdown",
   "metadata": {},
   "source": [
    "The above type is a form where we have to give the input values from the outside the class in to the function which is present in the class!!\n",
    "but we can give the data into the __init__ method and we can use that data in that function as long as the function and the __init__ functions are under a same class the we could use the parameters which are present in the __init__ function in the other function with using self key work before the parameter !!"
   ]
  },
  {
   "cell_type": "code",
   "execution_count": 3,
   "metadata": {},
   "outputs": [
    {
     "name": "stdout",
     "output_type": "stream",
     "text": [
      "[99, 607]\n",
      "99\n",
      "607\n",
      "the big number is: 607\n",
      "None\n",
      "[45, 3807]\n",
      "45\n",
      "3807\n",
      "the big number is: 3807\n",
      "None\n"
     ]
    }
   ],
   "source": [
    "class kj:\n",
    "    def __init__(self,Name,Age,x,y):\n",
    "        self.Name=Name\n",
    "        self.Age=Age\n",
    "        self.x=x\n",
    "        self.y=y\n",
    "    def upo(self):\n",
    "        print([self.x,self.y])\n",
    "        print(self.x)\n",
    "        print(self.y)\n",
    "        if(self.x>self.y):\n",
    "            print(f\"the big number is: {self.x}\")\n",
    "\n",
    "        elif(self.y>self.x):\n",
    "            print(f\"the big number is: {self.y}\")\n",
    "        \n",
    "        else:\n",
    "            print(\"the bot are equle!!\")\n",
    "            \n",
    "        \n",
    "ui=kj(\"vinay\",12,99,607)\n",
    "print(ui.upo())\n",
    "uoo=kj(\"vinay\",12,45,3807)\n",
    "print(uoo.upo())\n"
   ]
  },
  {
   "cell_type": "code",
   "execution_count": 4,
   "metadata": {},
   "outputs": [
    {
     "name": "stdout",
     "output_type": "stream",
     "text": [
      "hi how r u vinay\n",
      "The number that u have given is the same number as your age\n",
      "hi how r u vinay\n",
      "The number that u have given is not the same number as your age\n"
     ]
    }
   ],
   "source": [
    "class vin:\n",
    "    def __init__(self, name: str, age: int, gender: str, pno: int):\n",
    "        self.name = name\n",
    "        self.age = age\n",
    "        self.gender = gender\n",
    "        self.pno = pno\n",
    "    def niuu(self,jo: int):\n",
    "        print(f\"hi how r u {self.name}\")\n",
    "        if (self.age == jo):\n",
    "            print(\"The number that u have given is the same number as your age\")\n",
    "        else:\n",
    "            print(\"The number that u have given is not the same number as your age\")\n",
    "h1=vin(\"vinay\",20,\"M\",7013731005)\n",
    "h1.niuu(20)\n",
    "h3=vin(\"vinay\",20,\"M\",7013731005)\n",
    "h3.niuu(78)\n"
   ]
  },
  {
   "attachments": {},
   "cell_type": "markdown",
   "metadata": {},
   "source": [
    "The above program is telling us that we can specif the datatype that we want to give to the __init__ function by just keeping \":\" beside the parameter and after that specifies the datatype of the parameter..."
   ]
  },
  {
   "cell_type": "code",
   "execution_count": 5,
   "metadata": {},
   "outputs": [
    {
     "name": "stdout",
     "output_type": "stream",
     "text": [
      "10000000\n",
      "5000000\n",
      "8000000\n",
      "9000000\n"
     ]
    }
   ],
   "source": [
    "class v1:\n",
    "    pay_rate = 10\n",
    "    def __init__ (self,name: str,sal: int,gender: str,pno: int):\n",
    "        assert sal>10000, f\"Your sal is too low for you {self.sal}!!\"#used to pass an custom error message///assert used to check the border condition like sal > 10000!\n",
    "        assert gender != \"M\" or \"m\" or \"F\" or \"f\", f\"Your gender is wrong{self.gender}!!\"\n",
    "\n",
    "\n",
    "        self.name = name\n",
    "        self.sal = sal\n",
    "        self.gender = gender\n",
    "        self.pno = pno\n",
    "\n",
    "\n",
    "\n",
    "    def call(self):\n",
    "        lk = 90\n",
    "        jjj = self.sal * self.pay_rate #here we can use \"self.\" or \"v1\" but when we use v1 we will get the valuse have higher preference than instance level variabul\n",
    "        #so we will use \"self.\"\n",
    "        print(jjj)\n",
    "\n",
    "o1 = v1(\"vinal\",1000000,\"M\",7013731005)\n",
    "o1.call()\n",
    "o2=v1(\"kumar\",500000,\"M\",8886587591)\n",
    "o2.call()\n",
    "o3 = v1(\"sunil\",800000,\"M\",949084245)\n",
    "o3.call()\n",
    "o4=v1(\"suresh\",900000,\"M\",9110788277)\n",
    "o4.call()\n",
    "\n",
    "\n",
    "\n",
    "\n",
    "\n",
    "\n"
   ]
  },
  {
   "cell_type": "code",
   "execution_count": 6,
   "metadata": {},
   "outputs": [
    {
     "name": "stdout",
     "output_type": "stream",
     "text": [
      "10000000\n",
      "5000000\n",
      "8000000\n",
      "9000000\n",
      "[<__main__.v1 object at 0x000001898CDCC340>, <__main__.v1 object at 0x000001898CDCC3A0>, <__main__.v1 object at 0x000001898CDCCE80>, <__main__.v1 object at 0x000001898CDCC100>]\n",
      "vinal\n",
      "7013731005\n",
      "kumar\n",
      "8886587591\n",
      "sunil\n",
      "949084245\n",
      "suresh\n",
      "9110788277\n"
     ]
    }
   ],
   "source": [
    "class v1:\n",
    "    pay_rate = 10# class variable!!\n",
    "    all=[]#@@ this is the empty list \n",
    "    def __init__ (self,name: str,sal: int,gender: str,pno: int):# constructor\n",
    "        assert sal>10000, f\"Your sal is too low for you {self.sal}!!\"#used to pass an custom error message///assert used to check the border condition like sal > 10000!\n",
    "        assert pno>0, f\"Your phone number has to be\"\n",
    "\n",
    "\n",
    "        self.name = name\n",
    "        self.sal = sal\n",
    "        self.gender = gender\n",
    "        self.pno = pno\n",
    "\n",
    "        v1.all.append(self)\n",
    "\n",
    "    def call(self):# method ??? a function inside the class is called as method\n",
    "        lk = 90\n",
    "        jjj = self.sal * self.pay_rate #here we can use \"self.\" or \"v1\" but when we use v1 we will get the values have higher preference than instance level variabul\n",
    "        #so we will use \"self.\"\n",
    "        print(jjj)\n",
    "\n",
    "o1 = v1(\"vinal\",1000000,\"M\",7013731005)\n",
    "o1.call()\n",
    "o2=v1(\"kumar\",500000,\"M\",8886587591)\n",
    "o2.call()\n",
    "o3 = v1(\"sunil\",800000,\"M\",949084245)\n",
    "o3.call()\n",
    "o4=v1(\"suresh\",900000,\"M\",9110788277)\n",
    "o4.call()\n",
    "print(v1.all)#Use to print all the data from the list!@\n",
    "\n",
    "for i in v1.all:#this is where we use the to extract the data from the list that we used to store the instances data!!\n",
    "    print(i.name)\n",
    "    print(i.pno)\n",
    "\n",
    "\n",
    "\n",
    "\n",
    "\n"
   ]
  },
  {
   "attachments": {},
   "cell_type": "markdown",
   "metadata": {},
   "source": [
    "In the above code we can see that in order to save all the instances that we have created we create a empty list in a class and then after the creation of the constructor wee will add the values to the variables in that constructors after adding the values we will append the values to our empty list after that we will go out of the class and we can access all the instances data that we have created and we can just use the for loop in order to extract the data out of the list \n",
    "\n",
    "with that kind of power we only extract the data that we need and we can use multiple filters on that data!!"
   ]
  },
  {
   "cell_type": "code",
   "execution_count": 7,
   "metadata": {},
   "outputs": [
    {
     "name": "stdout",
     "output_type": "stream",
     "text": [
      "{'Name': 'vinay', 'Age': '20', 'Gender': \"'M'\", 'PNO': '7013731005'}\n",
      "{'Name': 'kumar', 'Age': '21', 'Gender': \"'M'\", 'PNO': '8886587591'}\n",
      "{'Name': 'sai', 'Age': '20', 'Gender': \"'M'\", 'PNO': '9110788277'}\n",
      "{'Name': 'teja', 'Age': '19', 'Gender': \"'F'\", 'PNO': '8489329893'}\n",
      "[<__main__.hip object at 0x000001898CDD0CD0>, <__main__.hip object at 0x000001898CD7B070>, <__main__.hip object at 0x000001898CD7B130>, <__main__.hip object at 0x000001898CD7B190>]\n",
      "vinay\n",
      "7013731005\n",
      "kumar\n",
      "8886587591\n",
      "sai\n",
      "9110788277\n",
      "teja\n",
      "8489329893\n"
     ]
    }
   ],
   "source": [
    "import csv\n",
    "class hip:\n",
    "    v1=[]\n",
    "    def __init__(self,name:str,age:int,gender:str,phoneNo:int):\n",
    "        self.name=name\n",
    "        self.age=age\n",
    "        self.gender=gender\n",
    "        self.phoneNo=phoneNo\n",
    "\n",
    "        hip.v1.append(self)\n",
    "    def grettings(self):\n",
    "        print(f\"This is the sample of using the method {self.name}!!\")\n",
    "    @classmethod\n",
    "    def apply(cls):\n",
    "        with open('vinay.csv','r') as vf:\n",
    "            reader = csv.DictReader(vf)\n",
    "            hips=list(reader)\n",
    "        for i in hips:\n",
    "            hip(\n",
    "                name=str(i.get('Name')),\n",
    "                age=float(i.get('Age')),\n",
    "                gender=str(i.get('Gender')),\n",
    "                phoneNo=int(i.get('PNO'))\n",
    "            )\n",
    "        for j in hips:\n",
    "            print(j)\n",
    "\n",
    "        \n",
    "\n",
    "hip.apply()\n",
    "print(hip.v1)\n",
    "for i in hip.v1:\n",
    "    print(i.name)\n",
    "    print(i.phoneNo)\n"
   ]
  },
  {
   "attachments": {},
   "cell_type": "markdown",
   "metadata": {},
   "source": [
    "The above example is used to show the usage of the @classmethod for the in-taking the data from the csv file and giving that to the __init__ function in the class as a input parameters (simply we are storing the data from csv file data into the class constructor Data)"
   ]
  },
  {
   "cell_type": "code",
   "execution_count": 8,
   "metadata": {},
   "outputs": [
    {
     "name": "stdout",
     "output_type": "stream",
     "text": [
      "vinjj you are not gonnna do it to me until u turn to 20\n",
      "vinjj you are not gonnna do it to me until u turn to 20\n",
      "kumar you are not gonnna do it to me until u turn to 66\n",
      "(66, 'kumar', 66, 'kumar', 66, 'kumar', 66, 'kumar', 66, 'kumar', 66, 'kumar', 66, 'kumar', 66, 'kumar', 66, 'kumar', 66, 'kumar', 66, 'kumar', 66, 'kumar', 66, 'kumar', 66, 'kumar', 66, 'kumar', 66, 'kumar', 66, 'kumar', 66, 'kumar', 66, 'kumar', 66, 'kumar', 66, 'kumar', 66, 'kumar')\n"
     ]
    }
   ],
   "source": [
    "class vin:\n",
    "    age = 20# it ia a class variable (1)\n",
    "    name=\"vinjj\"# it ia a class variable (2)\n",
    "    def __init__(self,x,y):\n",
    "        self.x = x\n",
    "        self.y = y\n",
    "    def c1(self,name,age):\n",
    "        print(f\"{self.name} you are not gonnna do it to me until u turn to {self.age}\")\n",
    "    @classmethod# it is class method using this we can change the class variables and we can pass the class variables as an argument!!\n",
    "    def c2(cls,name,age):\n",
    "        cls.name = name#this will conform the change of the class variable in that class(this will give a permanent change of the class variable)\n",
    "        cls.age = age#this will conform the change of the class variable in that class(this will give a permanent change of the class variable)\n",
    "        print(f\"{cls.name} you are not gonnna do it to me until u turn to {cls.age}\")\n",
    "    def c3(self):\n",
    "        print((self.age,self.name)*22)\n",
    "\n",
    "f1=vin(12,18)\n",
    "f1.c1(\"vinay\",f1.x)\n",
    "#yes the class variables changes using @classmethod but it will again changed if we willing to give the class variables as manual from the out side the \n",
    "#class like \"f1.age=90\" and \"f1.name=\"Vijaya\"\"\n",
    "\n",
    "f1.c1(\"vinay\",f1.x)\n",
    "f1.c2(\"kumar\",66)\n",
    "\n",
    "f1.c3()\n"
   ]
  },
  {
   "attachments": {},
   "cell_type": "markdown",
   "metadata": {},
   "source": [
    "In the above example we can see the we can change the class variables from using the @classmethod (permanently) even after calling the class variables\n",
    "the updated values will print_out but if we give the globule variable from out side the class then it would have been more importance then the @classmethod so the class variables will change if we update the class variables are changed from the outside the class \n"
   ]
  },
  {
   "cell_type": "code",
   "execution_count": 9,
   "metadata": {},
   "outputs": [
    {
     "name": "stdout",
     "output_type": "stream",
     "text": [
      "{}\n",
      "None\n"
     ]
    }
   ],
   "source": [
    "def fre(string):\n",
    "    f1 = {}\n",
    "    for i in string:\n",
    "        f1[i]=f1.get(i,0)+1\n",
    "    print(f1)\n",
    "    for i in string:\n",
    "        if f1[i] == 1:\n",
    "            return i\n",
    "dd= input(\"Enter the string: \")\n",
    "print(fre(dd))\n",
    "        \n"
   ]
  },
  {
   "attachments": {},
   "cell_type": "markdown",
   "metadata": {},
   "source": [
    "the above code is the basic algorithm that we see in strings which is used to print first non-repeating chat in an string!!"
   ]
  },
  {
   "cell_type": "code",
   "execution_count": 10,
   "metadata": {},
   "outputs": [
    {
     "name": "stdout",
     "output_type": "stream",
     "text": [
      "{}\n",
      "{}\n"
     ]
    }
   ],
   "source": [
    "\"\"\"def free(s1,s2):\n",
    "    f1 = {}\n",
    "    f2 = {}\n",
    "    for i in s1:\n",
    "        if(ord(i) in range(97,123)):\n",
    "            f1[i] = f1.get(i,0)+1\n",
    "    for i in s2:\n",
    "        if ((ord(i)) in range(97,123)):\n",
    "            f2[i] = f2.get(i,0)+1\n",
    "    if(f1 == f2):\n",
    "        print(f\"The given two strings{s1} and {s2} are Anagram Strings\")\n",
    "        print(s1)\n",
    "        print(f1)\n",
    "        print(s2)\n",
    "        print(f2)\n",
    "    else:\n",
    "        print(f\"The given two strings{s1} and {s2} are not Anagram Strings\")\n",
    "    \n",
    "s1=input(\"Enter the first string: \")\n",
    "s2=input(\"Enter the second string: \")\n",
    "free(s1,s2)\"\"\"\n",
    "\n",
    "def free(s1,s2):\n",
    "    l1= list(s1)\n",
    "    l2 = list(s2)\n",
    "    f1 = {i:s1.count(i) for i in l1}\n",
    "    f2 = {i:s2.count(i) for i in l2}\n",
    "    print(f1)\n",
    "    print(f2)\n",
    "    \n",
    "    \n",
    "    \n",
    "    \n",
    "    \n",
    "    \n",
    "    \n",
    "\n",
    "\n",
    "\n",
    "s1=input(\"Enter the first string: \")\n",
    "s2=input(\"Enter the second string: \")\n",
    "free(s1,s2)\n",
    "    \n",
    "\n"
   ]
  },
  {
   "attachments": {},
   "cell_type": "markdown",
   "metadata": {},
   "source": [
    "the above problem's a common algorithm that is used to find the given two strings are anagram strings or not "
   ]
  },
  {
   "cell_type": "code",
   "execution_count": 11,
   "metadata": {},
   "outputs": [
    {
     "name": "stdout",
     "output_type": "stream",
     "text": [
      "\n",
      "\n"
     ]
    }
   ],
   "source": [
    "c= input(\"Enter the string :- \")\n",
    "jj={}\n",
    "for V,N in enumerate(c):\n",
    "    jj[N] = V\n",
    "kk=list(jj.keys())\n",
    "print(c)\n",
    "print(\"\".join(kk))\n",
    "\n"
   ]
  },
  {
   "attachments": {},
   "cell_type": "markdown",
   "metadata": {},
   "source": [
    "The above code is used to remove the duplicates from the given string and also keep that string in the order also using enumerate and dictionary "
   ]
  },
  {
   "cell_type": "code",
   "execution_count": 12,
   "metadata": {},
   "outputs": [],
   "source": [
    "with open(\"man.txt\",\"w\")as f:\n",
    "    f.write(\"Hi ma this is my first thing i am do today!!\")\n",
    "    f.close()\n"
   ]
  },
  {
   "cell_type": "code",
   "execution_count": 13,
   "metadata": {},
   "outputs": [
    {
     "name": "stdout",
     "output_type": "stream",
     "text": [
      "completed\n"
     ]
    }
   ],
   "source": [
    "w = \"kurnool\"\n",
    "with open(\"man.txt\",\"r\") as fll:\n",
    "    for len,Line in enumerate(fll,start = 1):\n",
    "        if w in Line:\n",
    "            print(f\"The word {w} is inn the line number {len} in this file\")\n",
    "            print(list(Line.split(\" \")))\n",
    "            break;\n",
    "    print(\"completed\")"
   ]
  },
  {
   "cell_type": "code",
   "execution_count": 14,
   "metadata": {},
   "outputs": [
    {
     "name": "stdout",
     "output_type": "stream",
     "text": [
      "[890, 1, 2, 3, 4, 56, 8, 'fu', 99]\n",
      "[890, 1, 2, 3, 4, 56, 8, 'fu']\n",
      "[890, 1, 3, 4, 56, 8, 'fu']\n",
      "[890, 1, 3, 4, 56, 8, 'fu', 7, 2, 6, ['hi', 'how r u'], 2, 997]\n"
     ]
    }
   ],
   "source": [
    "# THIS  is the usefully methods of an array's\n",
    "x= [1,2,3,4,56,8,\"fu\"]\n",
    "y = [7,2,6,[\"hi\",\"how r u\"],2,997]\n",
    "x.append(99)\n",
    "x.insert(0,890)\n",
    "print(x)\n",
    "x.pop()#if we dont specify the index then it will delete the last element\n",
    "print(x)\n",
    "x.pop(2)\n",
    "print(x)\n",
    "x.extend(y)\n",
    "print(x)"
   ]
  },
  {
   "cell_type": "code",
   "execution_count": 15,
   "metadata": {},
   "outputs": [
    {
     "name": "stdout",
     "output_type": "stream",
     "text": [
      "vinay\n",
      "7013731005\n",
      "{'name': 'vinay', 'number': {'ph_no': 7013731005, 'land_no': 738729}, 'Age': 22, 'height': 1.65}\n",
      "{'name': 'kumar', 'number': {'ph_no': 7013731005, 'land_no': 738729}, 'Age': 22, 'height': 1.65}\n",
      "['Age', 'height', 'name', 'number']\n",
      "{'name': 'kumar', 'number': {'ph_no': 7013731005, 'land_no': 738729}, 'Age': 22, 'height': 1.65}\n",
      "[dict_keys(['name', 'number', 'Age', 'height'])]\n",
      "[dict_values(['kumar', {'ph_no': 7013731005, 'land_no': 738729}, 22, 1.65])]\n",
      "[('name', 'kumar'), ('number', {'ph_no': 7013731005, 'land_no': 738729}), ('Age', 22), ('height', 1.65)]\n",
      "N0_key_with_that_NAME\n",
      "kumar\n",
      "{'name': 'kumar', 'number': {'ph_no': 7013731005, 'land_no': 738729}, 'Age': 22, 'height': 1.65}\n",
      "{'name': 'kumar', 'number': {'ph_no': 7013731005, 'land_no': 738729}, 'Age': 22, 'height': 1.65}\n",
      "['Age', 'Weight', 'height', 'name', 'number']\n",
      "('Weight', 83)\n",
      "{'name': 'kumar', 'number': {'ph_no': 7013731005, 'land_no': 738729}, 'Age': 22, 'height': 1.65}\n",
      "{'name': 'kumar', 'number': {'ph_no': 7013731005, 'land_no': 738729}, 'Age': 22, 'height': 1.65, 'color': 'brown'}\n",
      "name\n",
      "kumar\n",
      "number\n",
      "{'ph_no': 7013731005, 'land_no': 738729}\n",
      "Age\n",
      "22\n",
      "height\n",
      "1.65\n",
      "color\n",
      "brown\n",
      "name\n",
      "['name', 'kumar']\n",
      "['number', {'ph_no': 7013731005, 'land_no': 738729}]\n",
      "['Age', 22]\n",
      "['height', 1.65]\n",
      "['color', 'brown']\n",
      "number\n",
      "['name', 'kumar']\n",
      "['number', {'ph_no': 7013731005, 'land_no': 738729}]\n",
      "['Age', 22]\n",
      "['height', 1.65]\n",
      "['color', 'brown']\n",
      "Age\n",
      "['name', 'kumar']\n",
      "['number', {'ph_no': 7013731005, 'land_no': 738729}]\n",
      "['Age', 22]\n",
      "['height', 1.65]\n",
      "['color', 'brown']\n",
      "height\n",
      "['name', 'kumar']\n",
      "['number', {'ph_no': 7013731005, 'land_no': 738729}]\n",
      "['Age', 22]\n",
      "['height', 1.65]\n",
      "['color', 'brown']\n",
      "color\n",
      "['name', 'kumar']\n",
      "['number', {'ph_no': 7013731005, 'land_no': 738729}]\n",
      "['Age', 22]\n",
      "['height', 1.65]\n",
      "['color', 'brown']\n",
      "{'name': 'kumar', 'number': {'ph_no': 7013731005, 'land_no': 738729}, 'Age': 22, 'height': 1.65, 'color': 'brown'}\n"
     ]
    }
   ],
   "source": [
    "#/////////////////////This is the full use of the DICT methods and use examples for the revision //////////////////////////////////////////////\n",
    "k1 ={\"name\":\"vinay\",\"number\":{\"ph_no\":7013731005,\"land_no\":738729},\"Age\":22}\n",
    "print(k1[\"name\"])# in this wee will pass only the key\n",
    "print(k1.get(\"number\").get(\"ph_no\"))# in this we will use .get method to get the value of the given key\n",
    "k1[\"height\"] = 1.65# adding the element to the dictionary\n",
    "print(k1)\n",
    "k1[\"name\"]= \"kumar\" # changing the existing value of a key\n",
    "print(k1)\n",
    "#del k1# deleting the dictionary\n",
    "#print(k1)\n",
    "#del k1[\"name\"] # deleting the single key-value pair in the dect\n",
    "#print(k1)\n",
    "print(sorted(k1))\n",
    "print(k1)\n",
    "# in built method in python dict!!\n",
    "print([k1.keys()])\n",
    "print([k1.values()])\n",
    "print(list(k1.items()))\n",
    "print(k1.get(\"names\",\"N0_key_with_that_NAME\"))# in this we have used the .get function where it takes two arguments first one is \n",
    "#key and second is the (anything) like a message!! if we do not find that key in the dict.\n",
    "print(k1.get(\"name\",\"N0_key_with_that_NAME\"))\n",
    "k2 = k1.copy()\n",
    "k3 = k1\n",
    "print(k2)# this is the  A shallow copy and it only copies contents, and the new construct points to the same memory location.\n",
    "print(k3)# this is the deep copy copies contents, and the new construct points to a different location.\n",
    "k1[\"Weight\"]=83\n",
    "print(sorted(k1))\n",
    "\n",
    "print(k1.popitem())# the use of this .popitem is that it will print out the pop'ed item from the list we cannot do that using .pop() method\n",
    "print(k1)\n",
    "k0 ={\"color\":\"brown\"}\n",
    "k1.update(k0)# this .update method will update the dict with outer dict!!\n",
    "print(k1)\n",
    "for i in k1:\n",
    "    print(i)\n",
    "    print(k1[i])\n",
    "for i in k1.keys():\n",
    "    print(i)\n",
    "    for i,j in k1.items():\n",
    "        print([i,j])\n",
    "print(k1)\n",
    "#///////////////////////////////////////////////////// the end of the dict!!//////////////////////////////////////////////////////////////////"
   ]
  },
  {
   "cell_type": "code",
   "execution_count": 16,
   "metadata": {},
   "outputs": [
    {
     "name": "stdout",
     "output_type": "stream",
     "text": [
      "{'name': 'kumar', 'number': {'ph_no': 7013731005, 'land_no': 738729}, 'Age': 22, 'height': 1.65, 'color': 'brown'}\n"
     ]
    },
    {
     "ename": "AttributeError",
     "evalue": "'dict' object has no attribute 'add'",
     "output_type": "error",
     "traceback": [
      "\u001b[1;31m---------------------------------------------------------------------------\u001b[0m",
      "\u001b[1;31mAttributeError\u001b[0m                            Traceback (most recent call last)",
      "\u001b[1;32mc:\\Users\\sunil\\OneDrive\\Desktop\\VS_python\\OOP's(python).ipynb Cell 24\u001b[0m in \u001b[0;36m<cell line: 6>\u001b[1;34m()\u001b[0m\n\u001b[0;32m      <a href='vscode-notebook-cell:/c%3A/Users/sunil/OneDrive/Desktop/VS_python/OOP%27s%28python%29.ipynb#X32sZmlsZQ%3D%3D?line=3'>4</a>\u001b[0m k1\u001b[39m.\u001b[39mupdate(k2)\n\u001b[0;32m      <a href='vscode-notebook-cell:/c%3A/Users/sunil/OneDrive/Desktop/VS_python/OOP%27s%28python%29.ipynb#X32sZmlsZQ%3D%3D?line=4'>5</a>\u001b[0m \u001b[39mprint\u001b[39m(k3)\n\u001b[1;32m----> <a href='vscode-notebook-cell:/c%3A/Users/sunil/OneDrive/Desktop/VS_python/OOP%27s%28python%29.ipynb#X32sZmlsZQ%3D%3D?line=5'>6</a>\u001b[0m k3\u001b[39m.\u001b[39;49madd(\u001b[39m\"\u001b[39m\u001b[39msai\u001b[39m\u001b[39m\"\u001b[39m)\n\u001b[0;32m      <a href='vscode-notebook-cell:/c%3A/Users/sunil/OneDrive/Desktop/VS_python/OOP%27s%28python%29.ipynb#X32sZmlsZQ%3D%3D?line=6'>7</a>\u001b[0m \u001b[39mprint\u001b[39m(k3)\n\u001b[0;32m      <a href='vscode-notebook-cell:/c%3A/Users/sunil/OneDrive/Desktop/VS_python/OOP%27s%28python%29.ipynb#X32sZmlsZQ%3D%3D?line=7'>8</a>\u001b[0m k3\u001b[39m.\u001b[39mremove(\u001b[39m\"\u001b[39m\u001b[39msai\u001b[39m\u001b[39m\"\u001b[39m)\u001b[39m# this will throw the error if the element is not in the set!!\u001b[39;00m\n",
      "\u001b[1;31mAttributeError\u001b[0m: 'dict' object has no attribute 'add'"
     ]
    }
   ],
   "source": [
    "#//////////////////////////////////////////////////// this is the SET usage!!! ///////////////////////////////////////////////////////////////////\n",
    "k1 ={1,6,3,2,0}\n",
    "k2 = {\"vinay\",\"Kumar\",\"Man\"}\n",
    "k1.update(k2)\n",
    "print(k3)\n",
    "k3.add(\"sai\")\n",
    "print(k3)\n",
    "k3.remove(\"sai\")# this will throw the error if the element is not in the set!!\n",
    "print(k3)\n",
    "k3.discard(\"rambo\")# this wont give the error message even if the element that we r giving is not in the set!! \n",
    "print(k3)\n",
    "\n",
    "\n",
    "\n",
    "\n"
   ]
  },
  {
   "cell_type": "code",
   "execution_count": null,
   "metadata": {},
   "outputs": [
    {
     "name": "stdout",
     "output_type": "stream",
     "text": [
      "[1, 5, 3, 5, 23]\n",
      "[1, 5, 3, 5, 23]\n",
      "37\n",
      "[1, 5, 5, 5, 23]\n"
     ]
    }
   ],
   "source": [
    "import itertools \n",
    "import functools\n",
    "import operator\n",
    "l1= [1,5,3,532,4,2,5,23,78,96]\n",
    "l2 = [x for x in list(map(lambda x: x if x%2!= 0 else 0,l1)) if x != 0]# in this the lambda act as a an function in the presence of map function\n",
    "print(l2)# odd\n",
    "l3 = list(filter(lambda x : x%2 != 0,l1))# in this the lambda function act as a conditional statement in the presence of filter function\n",
    "print(l3)\n",
    "l4 = functools.reduce(operator.add,l3)\n",
    "print(l4)\n",
    "\n",
    "l5 = list(itertools.accumulate(l3,lambda x,y: x if x>=y else y)) # this accumulate is a function is act just like reduce function but it will give an\n",
    "# list as an output for the flow of process \n",
    "print(l5)\n"
   ]
  },
  {
   "attachments": {},
   "cell_type": "markdown",
   "metadata": {},
   "source": [
    "Ok lets try to do a problem a user input given list what we have to do with that list is we need to re write the list from the first to the last\n",
    "where the list element has to be the big or equal than it's before element how to do this problem!!\n",
    "EX_:-[1,4,6,2,5,7,2,1,8,9,10,5,14,0,4,18,19,21,2,4,1,0]\n",
    "the out put has to be like this: [1,4,6,6,6,7,7,7,8,9,10,10,14,14,14,18,19,21,21,21,21,21] maximum value in the list across the way!\n",
    "and also the out put has to be like this :[1,1,1,1,1,1,1,1,1,1,1,1,1,0,0,0,0,0,0,0,0,0] this is for the lowest value across the way!"
   ]
  },
  {
   "cell_type": "code",
   "execution_count": null,
   "metadata": {},
   "outputs": [
    {
     "name": "stdout",
     "output_type": "stream",
     "text": [
      "[1, 4, 6, 2, 5, 7, 2, 1, 8, 9, 10, 5, 14, 0, 4, 18, 19, 21, 2, 4, 1, 0]\n",
      "[1, 4, 6, 6, 6, 7, 7, 7, 8, 9, 10, 10, 14, 14, 14, 18, 19, 21, 21, 21, 21, 21]\n",
      "[1, 1, 1, 1, 1, 1, 1, 1, 1, 1, 1, 1, 1, 0, 0, 0, 0, 0, 0, 0, 0, 0]\n"
     ]
    }
   ],
   "source": [
    "x1 = list(map(int,list(input(\"Enter the user list elements\").split(\",\"))))\n",
    "print(x1)\n",
    "x2 = list(itertools.accumulate(x1,lambda x ,y:x if x>y else y))\n",
    "print(x2)\n",
    "x3 = list(itertools.accumulate(x1,lambda y ,x:x if x<y else y))\n",
    "print(x3)"
   ]
  },
  {
   "cell_type": "code",
   "execution_count": null,
   "metadata": {},
   "outputs": [
    {
     "name": "stdout",
     "output_type": "stream",
     "text": [
      "[1, 2, 3, 4, 5]\n",
      "[1, 2, 3, 4, 5]\n",
      "[2, 3, 4, 5, 1]\n",
      "[3, 4, 5, 1, 2]\n",
      "[4, 5, 1, 2, 3]\n",
      "[5, 1, 2, 3, 4]\n",
      "[[1, 2, 3, 4, 5], [2, 3, 4, 5, 1], [3, 4, 5, 1, 2], [4, 5, 1, 2, 3], [5, 1, 2, 3, 4]]\n",
      "[[1 2 3 4 5]\n",
      " [2 3 4 5 1]\n",
      " [3 4 5 1 2]\n",
      " [4 5 1 2 3]\n",
      " [5 1 2 3 4]]\n",
      "[1 2 3 4 5 2 3 4 5 1 3 4 5 1 2 4 5 1 2 3 5 1 2 3 4]\n",
      "<class 'numpy.ndarray'>\n"
     ]
    }
   ],
   "source": [
    "# this program will tell the how the rotation will work on the list!!\n",
    "\n",
    "import numpy as np\n",
    "from collections import deque\n",
    "x1 = list(map(int, list(input('Enter the int:- ').split(\",\"))))[:5]\n",
    "x2 = deque(x1)\n",
    "print(list(x2))\n",
    "ko = []\n",
    "#print(x1)\n",
    "for i in range(len(x2)):\n",
    "    if i == 0:\n",
    "        print(list(x2))\n",
    "        ko.append(list(x2))\n",
    "    else:\n",
    "        x2.rotate(-(1))\n",
    "        print(list(x2))\n",
    "        ko.append(list(x2))\n",
    "print(ko)\n",
    "jik= np.asarray(ko)# this asarray in numpy is used to convert the array in to array and same as the 2d array to list we use (np.tolist())\n",
    "print(jik)\n",
    "print(jik.flat[0:29])# this .flat method is used to iterate over the 2d or 3d ndarray in numpy and it is very useefull!!!\n",
    "print(type(jik))# but still the above type is <class 'numpy.ndarray'> because it only make it flat not in to list ok!!\n",
    "\n"
   ]
  },
  {
   "cell_type": "code",
   "execution_count": null,
   "metadata": {},
   "outputs": [
    {
     "name": "stdout",
     "output_type": "stream",
     "text": [
      "470\n"
     ]
    }
   ],
   "source": [
    "import functools\n",
    "A =[1, 4, 6, 2, 5, 7, 2, 1, 8, 9, 10, 5, 14, 0, 4, 18, 19, 21, 2, 4, 1, 0]\n",
    "B =[1, 2, 3 ,4 ,5 ,2, 3, 4,5 ,1 ,3 ,4 ,5 ,1 ,2 ,4 ,5, 1, 2, 3, 5, 1]\n",
    "\n",
    "ko = functools.reduce(lambda x,y:x+y,[a*b for a,b in zip(A,B)])\n",
    "print(ko)"
   ]
  },
  {
   "attachments": {},
   "cell_type": "markdown",
   "metadata": {},
   "source": [
    "### Numpy array and some built-in function~"
   ]
  },
  {
   "cell_type": "code",
   "execution_count": null,
   "metadata": {},
   "outputs": [
    {
     "name": "stdout",
     "output_type": "stream",
     "text": [
      "[0.         0.05263158 0.10526316 0.15789474 0.21052632 0.26315789\n",
      " 0.31578947 0.36842105 0.42105263 0.47368421 0.52631579 0.57894737\n",
      " 0.63157895 0.68421053 0.73684211 0.78947368 0.84210526 0.89473684\n",
      " 0.94736842 1.        ]\n",
      "[[1. 1. 1. 1.]\n",
      " [1. 1. 1. 1.]\n",
      " [1. 1. 1. 1.]]\n"
     ]
    }
   ],
   "source": [
    "import numpy as np\n",
    "a = np.zeros(15,dtype=int)\n",
    "b = np.arange(start=0,stop=15,step=5)# this np.arange function to print the linear sequence numbers using \n",
    "#start and stop and step in numpy\n",
    "\n",
    "c= np.linspace(start=0,stop = 1,num=20)\n",
    "\"\"\"this np.linespace is used for devideing a range of numbers equaly \n",
    "in the given  range of output to the user in this example the start is 0 and stop(end) is 1 but the user need the \n",
    "output to be 20 values in the given range from start and stop !!(VERY IMPORTANT!!!)\"\"\"\n",
    "print(c)\n",
    "oj = np.ones(shape=(3,4),dtype=float)# in this shape is used to get the requried dimensioned numpy array\n",
    "print(oj)\n"
   ]
  },
  {
   "cell_type": "code",
   "execution_count": null,
   "metadata": {},
   "outputs": [
    {
     "name": "stdout",
     "output_type": "stream",
     "text": [
      "[ 0.02739726  6.71428571  1.97619048  0.66666667 21.75      ]\n"
     ]
    }
   ],
   "source": [
    "dist=[2,47,83,62,87]\n",
    "time =[73,7,42,93,4]\n",
    "#k=dist/time\n",
    "#print(k)\n",
    "\"\"\"if we try to divide liist by list we will get the \n",
    "TypeError: unsupported operand type(s) for /: 'list' and 'list'\n",
    "\"\"\"\n",
    "# this is the reason we use the np.array instead of normal array!!\n",
    "\n",
    "d1 = np.array(dist)\n",
    "d2 = np.array(time)\n",
    "k1 = d1/d2\n",
    "print(k1)# But if we use to np.array we will get this out put :-[ 0.02739726  6.71428571  1.97619048  0.66666667 21.75      ]\n",
    "# this happen because internally the numpy array will un-zip automatically when they are equal!!"
   ]
  },
  {
   "cell_type": "code",
   "execution_count": null,
   "metadata": {},
   "outputs": [
    {
     "name": "stdout",
     "output_type": "stream",
     "text": [
      "[0.5 1.  1.5 2.  2.5 3.  3.5 4.  4.5]\n",
      "[0, 1, 1, 2, 2, 3, 3, 4, 4]\n",
      "[0.70710678 1.         1.22474487 1.41421356 1.58113883 1.73205081\n",
      " 1.87082869 2.         2.12132034]\n"
     ]
    }
   ],
   "source": [
    "a1=np.array([1,2,3,4,5,6,7,8,9])\n",
    "a1 = a1/2\n",
    "print(a1)\n",
    "a2 =list(map(int,a1))\n",
    "print(a2)\n",
    "print(np.sqrt(a1))"
   ]
  },
  {
   "cell_type": "code",
   "execution_count": null,
   "metadata": {},
   "outputs": [
    {
     "name": "stdout",
     "output_type": "stream",
     "text": [
      "[[ 1  2  3  4  5]\n",
      " [ 6  7  8  9 11]\n",
      " [12 13 14 15 16]]\n",
      "[[ 2  3]\n",
      " [ 7  8]\n",
      " [13 14]]\n",
      "[[ 1  2  3  4  5]\n",
      " [ 6  7  8  9 10]\n",
      " [11 12 13 14 15]\n",
      " [16 17 18 19 20]]\n",
      "[ 1  2  3  4  5  6  7  8  9 10 11 12 13 14 15 16 17 18 19 20]\n",
      "<class 'numpy.ndarray'>\n",
      "[1, 2, 3, 4, 5, 6, 7, 8, 9, 10, 11, 12, 13, 14, 15, 16, 17, 18, 19, 20]\n",
      "<class 'list'>\n"
     ]
    }
   ],
   "source": [
    "\n",
    "import numpy as np\n",
    "a1 =np.array([[1,2,3,4,5],[6,7,8,9,11],[12,13,14,15,16]])\n",
    "print(a1)\n",
    "print(a1[0:4,1:3])# in this the first is the 0:4 is the range of columns and 1:3 is the range of rows!!\n",
    "a2 = [1,2,3,4,5,6,7,8,9,10,11,12,13,14,15,16,17,18,19,20]\n",
    "a2 = np.array(a2).reshape(4,5)# this method is used to convert the normal list in to the 2d array \n",
    "# but first se have to convert the normal list into numpy.array then we use reshape method to re-shape the\n",
    "# the np.array() to to the desired shape!!! \n",
    "\n",
    "print(a2)\n",
    "# to make a 1d-numpy-array from  2d numpy-array we could use \".flatten()\" method\n",
    "a2 = a2.flatten()\n",
    "print(a2)\n",
    "print(type(a2))#<class 'numpy.ndarray'>\n",
    "a2 = list(a2)# in this step er are making the numpy-array into the normal list!!\n",
    "print(a2)\n",
    "print(type(a2))#<class 'list'>\n",
    "# so this is how we can make the 2d-numpy-list into the normal list using .flatten and after that we use list() \n",
    "# methods to make the "
   ]
  },
  {
   "attachments": {},
   "cell_type": "markdown",
   "metadata": {},
   "source": [
    "## The next we will learn some basics of simulations in python using NumPy!!"
   ]
  },
  {
   "cell_type": "code",
   "execution_count": null,
   "metadata": {},
   "outputs": [
    {
     "name": "stdout",
     "output_type": "stream",
     "text": [
      "[0 0 1 0]\n"
     ]
    }
   ],
   "source": [
    "import numpy as np\n",
    "ak1 = np.random.randint(0,2,4)\n",
    "print(ak1) # this \"np.random.randint()\" function is so amazing to generate a random number in the given range\n",
    "#thread perimeter is used to tell the size of the out-put!!\n"
   ]
  },
  {
   "attachments": {},
   "cell_type": "markdown",
   "metadata": {},
   "source": [
    "##This time we will se how we can make an 2d array of one's and zero's and we will count the no of 1's and 0's \n",
    "in this matrix!!"
   ]
  },
  {
   "cell_type": "code",
   "execution_count": null,
   "metadata": {},
   "outputs": [
    {
     "name": "stdout",
     "output_type": "stream",
     "text": [
      "[[3 1 3 8 1 7 2 7 3 7]\n",
      " [5 7 5 1 1 5 0 4 2 4]\n",
      " [2 3 4 1 4 1 6 3 4 2]\n",
      " [3 0 8 7 5 4 3 5 4 7]\n",
      " [5 7 3 7 4 1 6 2 3 2]\n",
      " [6 0 8 7 3 3 7 3 1 8]\n",
      " [6 2 3 7 2 6 7 3 4 4]\n",
      " [2 3 3 7 1 7 5 6 8 5]\n",
      " [2 7 2 1 1 8 4 7 4 1]\n",
      " [7 2 0 7 3 6 8 8 6 2]]\n",
      "{0: 4, 1: 12, 2: 13, 3: 17, 4: 12, 5: 8, 6: 8, 7: 18, 8: 8}\n",
      "[42 34 30 46 40 46 44 47 37 49]\n"
     ]
    }
   ],
   "source": [
    "ak2 = np.random.randint(0,9,(10,10))# The size=(10,10) matrix as a 2-dimensional array\n",
    "print(ak2)\n",
    "mak=ak2.sum(axis=1)# this will give the sum of all values in the row    dimension in the array!!\n",
    "ko,ok=np.unique(ak2 ,return_counts=True)# this np.unique will return the unique values in the array but \n",
    "# if we give the return_counts=True the it will return the count of the unique values too as a list but we can zip then !!\n",
    "print(dict(zip(ko,ok)))\n",
    "print(mak)"
   ]
  },
  {
   "cell_type": "code",
   "execution_count": null,
   "metadata": {},
   "outputs": [
    {
     "name": "stdout",
     "output_type": "stream",
     "text": [
      "[[1 6 4 6 5]\n",
      " [1 8 2 4 1]\n",
      " [8 1 7 6 2]\n",
      " [3 8 3 2 4]\n",
      " [8 0 8 2 5]]\n",
      "[1 6 4 6 5]\n",
      "{1: 1, 4: 1, 5: 1, 6: 2}\n",
      "[1 1 8 3 8]\n",
      "{1: 2, 3: 1, 8: 2}\n",
      "[1 8 2 4 1]\n",
      "{1: 2, 2: 1, 4: 1, 8: 1}\n",
      "[6 8 1 8 0]\n",
      "{0: 1, 1: 1, 6: 1, 8: 2}\n",
      "[8 1 7 6 2]\n",
      "{1: 1, 2: 1, 6: 1, 7: 1, 8: 1}\n",
      "[4 2 7 3 8]\n",
      "{2: 1, 3: 1, 4: 1, 7: 1, 8: 1}\n",
      "[3 8 3 2 4]\n",
      "{2: 1, 3: 2, 4: 1, 8: 1}\n",
      "[6 4 6 2 2]\n",
      "{2: 2, 4: 1, 6: 2}\n",
      "[8 0 8 2 5]\n",
      "{0: 1, 2: 1, 5: 1, 8: 2}\n",
      "[5 1 2 4 5]\n",
      "{1: 1, 2: 1, 4: 1, 5: 2}\n"
     ]
    }
   ],
   "source": [
    "import numpy as np\n",
    "l1=np.random.randint(0,9,size=(5,5))\n",
    "print(l1)\n",
    "for i in range(len(l1)):# Because of the length of the matrix is \"5\" the loop will be of FIVE- times@@\n",
    "    k1=l1[i,0:]# is is how we can access the rows of the matrix\n",
    "    q1,q2 = np.unique(k1,return_counts=True)# this will give u counts of  the unique values in an a row of the \n",
    "    # the matrix!!\n",
    "    print(k1)\n",
    "    print(dict(zip(q1,q2)))\n",
    "    k2 = l1[0:,i]# this is the column in that matrix !!\n",
    "    q3,q4 = np.unique(k2,return_counts=True)# tis will give u all the counts of unique values in the column of the\n",
    "    # the matrix in the place of np.unique we can use np.bincount()\n",
    "    print(k2)\n",
    "    print(dict(zip(q3,q4)))\n",
    "    \n",
    "\n",
    "#NOTE- in the numpy array there is no direct function to count the values just like .count() method in normal list\n",
    "# so in numpy-array we use // a,b = np.unique(<np.array()>,return_counts=True)// << th np.array() is the name of the array!! and the \n",
    "# receiving arguments has to be two because one is for unique value and second one is for count of that unique value\n"
   ]
  },
  {
   "cell_type": "code",
   "execution_count": null,
   "metadata": {},
   "outputs": [
    {
     "name": "stdout",
     "output_type": "stream",
     "text": [
      "[0.         0.04166667 0.08333333 0.125      0.16666667 0.20833333\n",
      " 0.25       0.29166667 0.33333333 0.375      0.41666667 0.45833333\n",
      " 0.5        0.54166667 0.58333333 0.625      0.66666667 0.70833333\n",
      " 0.75       0.79166667 0.83333333 0.875      0.91666667 0.95833333\n",
      " 1.        ]\n",
      "[-1.15179944  2.89353361  1.59794844  0.06410792  0.20891377  1.22618249\n",
      "  0.61739792  1.57053564  0.06214544 -0.88898084 -0.19194054  0.7636586\n",
      "  0.97548511 -1.16448423 -0.91095383 -1.30528199 -0.56789796 -0.91971595\n",
      "  0.21701554 -1.35379489 -2.51648711 -0.28025544 -1.03589238 -0.46706487\n",
      "  0.18724594]\n"
     ]
    }
   ],
   "source": [
    "h1 = np.linspace(0,1,25)\n",
    "print(h1)\n",
    "h2 = np.random.normal(0,1,25)# This is based on the Gaussian distribution of values in the given mean and standard deviation as \n",
    "# a parameter to the Gaussian distribution(<0 is the mean for this example>,<1 is the SD for the example!!>)\n",
    "print(h2)# and the out put could be in negative order too!!"
   ]
  },
  {
   "attachments": {},
   "cell_type": "markdown",
   "metadata": {},
   "source": [
    "##----------------------------------------------PANDAS---------------------------------------------------------------------------------"
   ]
  },
  {
   "attachments": {},
   "cell_type": "markdown",
   "metadata": {},
   "source": [
    "## NOW wee will learn about the Pandas Library for the Data manipulation in pandas we will do series creation and Data-frames creation  "
   ]
  },
  {
   "attachments": {},
   "cell_type": "markdown",
   "metadata": {},
   "source": [
    "\n",
    "series creation using pandas using Simple list!!\n"
   ]
  },
  {
   "cell_type": "code",
   "execution_count": 4,
   "metadata": {},
   "outputs": [
    {
     "name": "stdout",
     "output_type": "stream",
     "text": [
      "Monday       28.60\n",
      "Tuesday      32.60\n",
      "Wednesday    93.60\n",
      "Thursday     44.80\n",
      "Friday       21.40\n",
      "Saturday     39.09\n",
      "Sunday       88.20\n",
      "dtype: float64\n"
     ]
    }
   ],
   "source": [
    "import pandas as pd\n",
    "Temp =[28.6,32.6,93.6,44.8,21.4,39.09,88.2]\n",
    "day = [\"Monday\", \"Tuesday\", \"Wednesday\", \"Thursday\", \"Friday\", \"Saturday\",\"Sunday\"]\n",
    "k1 = pd.Series(Temp,index = day)\n",
    "print(k1)"
   ]
  },
  {
   "attachments": {},
   "cell_type": "markdown",
   "metadata": {},
   "source": [
    "A series can also be created by using dect in this wee will take the value pairs as a value and keys as a index \n",
    "???? but when it comes to Dict there won't be any ordering so in the output it will be unordered!!!\n"
   ]
  },
  {
   "cell_type": "code",
   "execution_count": 5,
   "metadata": {},
   "outputs": [
    {
     "name": "stdout",
     "output_type": "stream",
     "text": [
      "Monday       53.87\n",
      "Tuesday      53.87\n",
      "Wednesday    93.87\n",
      "Thursday     12.84\n",
      "Friday       43.83\n",
      "Saturday     28.84\n",
      "Sunday       85.32\n",
      "dtype: float64\n"
     ]
    }
   ],
   "source": [
    "A1 = {\"Monday\":53.87,\"Tuesday\":53.87,\"Wednesday\":93.87,\"Thursday\":12.84,\"Friday\":43.83,\"Saturday\":28.84,\"Sunday\":85.32}\n",
    "a2 = pd.Series(A1)\n",
    "print(a2)"
   ]
  },
  {
   "cell_type": "code",
   "execution_count": 6,
   "metadata": {},
   "outputs": [
    {
     "name": "stdout",
     "output_type": "stream",
     "text": [
      "0    0.000000\n",
      "1    0.111111\n",
      "2    0.222222\n",
      "3    0.333333\n",
      "4    0.444444\n",
      "5    0.555556\n",
      "6    0.666667\n",
      "7    0.777778\n",
      "8    0.888889\n",
      "9    1.000000\n",
      "dtype: float64\n"
     ]
    },
    {
     "data": {
      "text/plain": [
       "0    0.000000\n",
       "1    0.222222\n",
       "2    0.444444\n",
       "3    0.666667\n",
       "4    0.888889\n",
       "5    1.111111\n",
       "6    1.333333\n",
       "7    1.555556\n",
       "8    1.777778\n",
       "9    2.000000\n",
       "dtype: float64"
      ]
     },
     "execution_count": 6,
     "metadata": {},
     "output_type": "execute_result"
    }
   ],
   "source": [
    "import numpy as np\n",
    "x1 = np.linspace(0,1,10,dtype=float)\n",
    "s1 = pd.Series(x1)\n",
    "print(s1)\n",
    "2*s1# if we do some manipulation on the series then it will apply to all the elements !!\n",
    "\n"
   ]
  },
  {
   "attachments": {},
   "cell_type": "markdown",
   "metadata": {},
   "source": [
    "Now we will try to create the Data-frame using real data from xlsx file !!"
   ]
  },
  {
   "cell_type": "code",
   "execution_count": 7,
   "metadata": {},
   "outputs": [
    {
     "name": "stdout",
     "output_type": "stream",
     "text": [
      "        Place  Country      Block Level    Cost\n",
      "0  Government  Germany  Carretera  None  1321.0\n",
      "1   Midmarket   France  Carretera  None  2178.0\n",
      "2   Midmarket  Germany  Carretera  None   888.0\n",
      "3   Midmarket   Mexico  Carretera  None  2470.0\n",
      "4  Government  Germany  Carretera  None  1513.0\n"
     ]
    }
   ],
   "source": [
    "\n",
    "k2 = pd.read_excel(r\"C:\\Users\\sunil\\OneDrive\\Desktop\\DATA_SCIENCE!!\\Book2.xlsx\",names=[\"Place\",\"Country\",\"Block\",\"Level\",\"Cost\"])\n",
    "print(k2[0:5])"
   ]
  },
  {
   "cell_type": "code",
   "execution_count": 8,
   "metadata": {},
   "outputs": [
    {
     "name": "stdout",
     "output_type": "stream",
     "text": [
      "Index(['Place', 'Country', 'Block', 'Level', 'Cost'], dtype='object')\n",
      "[['Government' 'Germany' 'Carretera' 'None' 1321.0]\n",
      " ['Midmarket' 'France' 'Carretera' 'None' 2178.0]\n",
      " ['Midmarket' 'Germany' 'Carretera' 'None' 888.0]\n",
      " ...\n",
      " ['Government' 'Mexico' 'Montana' 'High' 1368.0]\n",
      " ['Government' 'Canada' 'Paseo' 'High' 723.0]\n",
      " ['Channel Partners' 'United States of America' 'VTT' 'High' 1806.0]]\n",
      "RangeIndex(start=0, stop=699, step=1)\n"
     ]
    }
   ],
   "source": [
    "print(k2.columns)# This will give you all the index's(labels  or names of each column) that are present in the xl sheet!\n",
    "print(k2.values)# This will give you all the values in the form of numpy.array() that are present in the xl sheet!\n",
    "print(k2.index)# This will give you all the index's values that are present in the xl sheet!\n",
    "\n"
   ]
  },
  {
   "attachments": {},
   "cell_type": "markdown",
   "metadata": {},
   "source": [
    "You can treat a DataFrame like a dict of indexed Series objects. Getting, setting, and deleting columns works with\n",
    "the same syntax dictionary operations:"
   ]
  },
  {
   "cell_type": "code",
   "execution_count": 9,
   "metadata": {},
   "outputs": [
    {
     "name": "stdout",
     "output_type": "stream",
     "text": [
      "          Place  Country      Block Level    Cost\n",
      "man                                              \n",
      "1    Government  Germany  Carretera  None  1321.0\n",
      "2     Midmarket   France  Carretera  None  2178.0\n",
      "3     Midmarket  Germany  Carretera  None   888.0\n",
      "4     Midmarket   Mexico  Carretera  None  2470.0\n",
      "5    Government  Germany  Carretera  None  1513.0\n"
     ]
    }
   ],
   "source": [
    "k2[\"man\"] = [x for x in range(1,(k2.shape[0])+1)]\n",
    "k2.set_index(\"man\",inplace=True)\n",
    "print(k2[0:5])\n",
    "#k2.set_index(\"INDEX\",inplace=True)\n"
   ]
  },
  {
   "cell_type": "code",
   "execution_count": 10,
   "metadata": {},
   "outputs": [
    {
     "data": {
      "text/html": [
       "<div>\n",
       "<style scoped>\n",
       "    .dataframe tbody tr th:only-of-type {\n",
       "        vertical-align: middle;\n",
       "    }\n",
       "\n",
       "    .dataframe tbody tr th {\n",
       "        vertical-align: top;\n",
       "    }\n",
       "\n",
       "    .dataframe thead th {\n",
       "        text-align: right;\n",
       "    }\n",
       "</style>\n",
       "<table border=\"1\" class=\"dataframe\">\n",
       "  <thead>\n",
       "    <tr style=\"text-align: right;\">\n",
       "      <th></th>\n",
       "      <th>Place</th>\n",
       "      <th>Country</th>\n",
       "      <th>Block</th>\n",
       "      <th>Level</th>\n",
       "      <th>Cost</th>\n",
       "    </tr>\n",
       "    <tr>\n",
       "      <th>man</th>\n",
       "      <th></th>\n",
       "      <th></th>\n",
       "      <th></th>\n",
       "      <th></th>\n",
       "      <th></th>\n",
       "    </tr>\n",
       "  </thead>\n",
       "  <tbody>\n",
       "    <tr>\n",
       "      <th>1</th>\n",
       "      <td>Government</td>\n",
       "      <td>Germany</td>\n",
       "      <td>Carretera</td>\n",
       "      <td>None</td>\n",
       "      <td>1321.0</td>\n",
       "    </tr>\n",
       "    <tr>\n",
       "      <th>2</th>\n",
       "      <td>Midmarket</td>\n",
       "      <td>France</td>\n",
       "      <td>Carretera</td>\n",
       "      <td>None</td>\n",
       "      <td>2178.0</td>\n",
       "    </tr>\n",
       "    <tr>\n",
       "      <th>3</th>\n",
       "      <td>Midmarket</td>\n",
       "      <td>Germany</td>\n",
       "      <td>Carretera</td>\n",
       "      <td>None</td>\n",
       "      <td>888.0</td>\n",
       "    </tr>\n",
       "    <tr>\n",
       "      <th>4</th>\n",
       "      <td>Midmarket</td>\n",
       "      <td>Mexico</td>\n",
       "      <td>Carretera</td>\n",
       "      <td>None</td>\n",
       "      <td>2470.0</td>\n",
       "    </tr>\n",
       "    <tr>\n",
       "      <th>5</th>\n",
       "      <td>Government</td>\n",
       "      <td>Germany</td>\n",
       "      <td>Carretera</td>\n",
       "      <td>None</td>\n",
       "      <td>1513.0</td>\n",
       "    </tr>\n",
       "    <tr>\n",
       "      <th>...</th>\n",
       "      <td>...</td>\n",
       "      <td>...</td>\n",
       "      <td>...</td>\n",
       "      <td>...</td>\n",
       "      <td>...</td>\n",
       "    </tr>\n",
       "    <tr>\n",
       "      <th>695</th>\n",
       "      <td>Small Business</td>\n",
       "      <td>France</td>\n",
       "      <td>Amarilla</td>\n",
       "      <td>High</td>\n",
       "      <td>2475.0</td>\n",
       "    </tr>\n",
       "    <tr>\n",
       "      <th>696</th>\n",
       "      <td>Small Business</td>\n",
       "      <td>Mexico</td>\n",
       "      <td>Amarilla</td>\n",
       "      <td>High</td>\n",
       "      <td>546.0</td>\n",
       "    </tr>\n",
       "    <tr>\n",
       "      <th>697</th>\n",
       "      <td>Government</td>\n",
       "      <td>Mexico</td>\n",
       "      <td>Montana</td>\n",
       "      <td>High</td>\n",
       "      <td>1368.0</td>\n",
       "    </tr>\n",
       "    <tr>\n",
       "      <th>698</th>\n",
       "      <td>Government</td>\n",
       "      <td>Canada</td>\n",
       "      <td>Paseo</td>\n",
       "      <td>High</td>\n",
       "      <td>723.0</td>\n",
       "    </tr>\n",
       "    <tr>\n",
       "      <th>699</th>\n",
       "      <td>Channel Partners</td>\n",
       "      <td>United States of America</td>\n",
       "      <td>VTT</td>\n",
       "      <td>High</td>\n",
       "      <td>1806.0</td>\n",
       "    </tr>\n",
       "  </tbody>\n",
       "</table>\n",
       "<p>699 rows × 5 columns</p>\n",
       "</div>"
      ],
      "text/plain": [
       "                Place                   Country      Block Level    Cost\n",
       "man                                                                     \n",
       "1          Government                   Germany  Carretera  None  1321.0\n",
       "2           Midmarket                    France  Carretera  None  2178.0\n",
       "3           Midmarket                   Germany  Carretera  None   888.0\n",
       "4           Midmarket                    Mexico  Carretera  None  2470.0\n",
       "5          Government                   Germany  Carretera  None  1513.0\n",
       "..                ...                       ...        ...   ...     ...\n",
       "695    Small Business                    France   Amarilla  High  2475.0\n",
       "696    Small Business                    Mexico   Amarilla  High   546.0\n",
       "697        Government                    Mexico    Montana  High  1368.0\n",
       "698        Government                    Canada      Paseo  High   723.0\n",
       "699  Channel Partners  United States of America        VTT  High  1806.0\n",
       "\n",
       "[699 rows x 5 columns]"
      ]
     },
     "execution_count": 10,
     "metadata": {},
     "output_type": "execute_result"
    }
   ],
   "source": [
    "k2"
   ]
  },
  {
   "cell_type": "code",
   "execution_count": 11,
   "metadata": {},
   "outputs": [
    {
     "name": "stdout",
     "output_type": "stream",
     "text": [
      "man\n",
      "1    Germany\n",
      "2     France\n",
      "3    Germany\n",
      "4     Mexico\n",
      "5    Germany\n",
      "6    Germany\n",
      "7     Canada\n",
      "8     France\n",
      "9    Germany\n",
      "Name: Country, dtype: object\n",
      "          Place                   Country      Block Level    Cost\n",
      "man                                                               \n",
      "1    Government                   Germany  Carretera  None  1321.0\n",
      "2     Midmarket                    France  Carretera  None  2178.0\n",
      "3     Midmarket                   Germany  Carretera  None   888.0\n",
      "4     Midmarket                    Mexico  Carretera  None  2470.0\n",
      "5    Government                   Germany  Carretera  None  1513.0\n",
      "..          ...                       ...        ...   ...     ...\n",
      "84   Government                    Mexico       Velo   Low   362.0\n",
      "85   Enterprise                    Canada       Velo   Low   923.0\n",
      "86   Enterprise  United States of America       Velo   Low   663.0\n",
      "87   Government                    Canada       Velo   Low  2092.0\n",
      "88   Government                   Germany        VTT   Low   263.0\n",
      "\n",
      "[88 rows x 5 columns]\n"
     ]
    }
   ],
   "source": [
    "print(k2.loc[0:9,\"Country\"])\n",
    "print(k2.loc[0:88])"
   ]
  },
  {
   "cell_type": "code",
   "execution_count": 12,
   "metadata": {},
   "outputs": [
    {
     "name": "stdout",
     "output_type": "stream",
     "text": [
      "Government          299\n",
      "Midmarket           100\n",
      "Channel Partners    100\n",
      "Enterprise          100\n",
      "Small Business      100\n",
      "Name: Place, dtype: int64\n",
      "699\n",
      "Government          0.427754\n",
      "Midmarket           0.143062\n",
      "Channel Partners    0.143062\n",
      "Enterprise          0.143062\n",
      "Small Business      0.143062\n",
      "Name: Place, dtype: float64\n",
      "0.42775393419170243\n",
      "1608.2796852646638\n",
      "count     699.000000\n",
      "mean     1608.279685\n",
      "std       868.048917\n",
      "min       200.000000\n",
      "25%       905.000000\n",
      "50%      1540.000000\n",
      "75%      2230.750000\n",
      "max      4492.500000\n",
      "Name: Cost, dtype: float64\n",
      "man\n",
      "75     4492.5\n",
      "188    4251.0\n",
      "144    4243.5\n",
      "47     4219.5\n",
      "515    4026.0\n",
      "        ...  \n",
      "466     241.0\n",
      "194     218.0\n",
      "132     214.0\n",
      "100     214.0\n",
      "634     200.0\n",
      "Name: Cost, Length: 699, dtype: float64\n"
     ]
    }
   ],
   "source": [
    "print(k2[\"Place\"].value_counts())# this value.count() will give the count of each unique value in that given column!!\n",
    "print(k2[\"Place\"].count())# this will only give you the count of the column !!\n",
    "print(k2[\"Place\"].value_counts(normalize=True))# This Normilize will give you the percentage of the each unique value\n",
    "# in the column !!\n",
    "print(k2[\"Place\"].value_counts(normalize=True)[\"Government\"])# by specifying the what place you want in a list we \n",
    "# will get that rate in that column!!\n",
    "print(k2[\"Cost\"].mean())# This will give the mean of the given column \n",
    "print(k2['Cost'].describe())# This will give the every thing about that column\n",
    "print(k2['Cost'].sort_values(ascending=False))#))# this will make the values in the given columns in the Descending \n",
    "# order!!! and in the place of ascending wee could use the normalize !!!\n"
   ]
  },
  {
   "cell_type": "code",
   "execution_count": 13,
   "metadata": {},
   "outputs": [
    {
     "name": "stdout",
     "output_type": "stream",
     "text": [
      "                Place                   Country      Block  Level    Cost\n",
      "man                                                                      \n",
      "1          Government                   Germany  Carretera      0  1321.0\n",
      "2           Midmarket                    France  Carretera      0  2178.0\n",
      "3           Midmarket                   Germany  Carretera      0   888.0\n",
      "4           Midmarket                    Mexico  Carretera      0  2470.0\n",
      "5          Government                   Germany  Carretera      0  1513.0\n",
      "..                ...                       ...        ...    ...     ...\n",
      "695    Small Business                    France   Amarilla      3  2475.0\n",
      "696    Small Business                    Mexico   Amarilla      3   546.0\n",
      "697        Government                    Mexico    Montana      3  1368.0\n",
      "698        Government                    Canada      Paseo      3   723.0\n",
      "699  Channel Partners  United States of America        VTT      3  1806.0\n",
      "\n",
      "[699 rows x 5 columns]\n"
     ]
    }
   ],
   "source": [
    "l1 = {\"None\":0,\"Low\":1,\"Medium\":2,\"High\":3}\n",
    "k2[\"Level\"] = k2[\"Level\"].map(l1)\n",
    "print(k2)# as wee can see in the out put that we have mapped the level values to the \n",
    "#\"Low\"=1,\"High\"=3,\"Medium\"=2,\"None\"=0\n",
    "# After the mapping the changing is permanent!!\n"
   ]
  },
  {
   "cell_type": "code",
   "execution_count": 14,
   "metadata": {},
   "outputs": [
    {
     "name": "stdout",
     "output_type": "stream",
     "text": [
      "[True, False, True, False, True, True, False, False, True, False, False, False, True, False, False, False, False, False, True, True, False, False, False, False, False, False, False, False, False, True, False, False, True, True, True, False, False, False, True, False, True, False, False, False, False, False, True, False, True, False, False, False, False, False, False, False, False, False, False, False, False, False, False, True, False, False, False, False, False, False, False, False, False, False, False, False, False, False, True, True, False, False, False, False, False, False, False, True, False, False, False, True, False, False, False, False, False, False, False, True] <class 'bool'>\n",
      "22\n"
     ]
    }
   ],
   "source": [
    "l1 = list(k2[\"Country\"].loc[:100] == \"Germany\")\n",
    "print(l1,type(l1[0]))\n",
    "print(l1.count(True))\n",
    "# the above method is used to count the no of bool__ values in that list\n"
   ]
  },
  {
   "cell_type": "code",
   "execution_count": 15,
   "metadata": {},
   "outputs": [
    {
     "name": "stdout",
     "output_type": "stream",
     "text": [
      "5\n"
     ]
    }
   ],
   "source": [
    "mn  = k2[\"Place\"].unique().size# this will give you the length of the numpy array \n",
    "#length of the column in data-frame in pandas of the unique values in that column !!\n",
    "print(mn)"
   ]
  },
  {
   "cell_type": "code",
   "execution_count": 16,
   "metadata": {},
   "outputs": [
    {
     "name": "stdout",
     "output_type": "stream",
     "text": [
      "{'Germany': 140, 'France': 140, 'Mexico': 140, 'United States of America': 140, 'Canada': 139}\n",
      "[140, 140, 140, 140, 139]\n"
     ]
    }
   ],
   "source": [
    "vb = k2[\"Country\"].value_counts()\n",
    "hj = dict(vb)\n",
    "print(hj)\n",
    "\n",
    "print(list(hj.values()))\n",
    "# By using the above method we can get the count of the unique values in the column \n",
    "# and also we could even make that in to a dictionary and also list if we want!!"
   ]
  },
  {
   "cell_type": "code",
   "execution_count": 17,
   "metadata": {},
   "outputs": [
    {
     "data": {
      "text/html": [
       "<div>\n",
       "<style scoped>\n",
       "    .dataframe tbody tr th:only-of-type {\n",
       "        vertical-align: middle;\n",
       "    }\n",
       "\n",
       "    .dataframe tbody tr th {\n",
       "        vertical-align: top;\n",
       "    }\n",
       "\n",
       "    .dataframe thead th {\n",
       "        text-align: right;\n",
       "    }\n",
       "</style>\n",
       "<table border=\"1\" class=\"dataframe\">\n",
       "  <thead>\n",
       "    <tr style=\"text-align: right;\">\n",
       "      <th></th>\n",
       "      <th>Place</th>\n",
       "      <th>Country</th>\n",
       "      <th>Block</th>\n",
       "      <th>Level</th>\n",
       "      <th>Cost</th>\n",
       "    </tr>\n",
       "    <tr>\n",
       "      <th>man</th>\n",
       "      <th></th>\n",
       "      <th></th>\n",
       "      <th></th>\n",
       "      <th></th>\n",
       "      <th></th>\n",
       "    </tr>\n",
       "  </thead>\n",
       "  <tbody>\n",
       "    <tr>\n",
       "      <th>1</th>\n",
       "      <td>Government</td>\n",
       "      <td>Germany</td>\n",
       "      <td>Carretera</td>\n",
       "      <td>0</td>\n",
       "      <td>1321.0</td>\n",
       "    </tr>\n",
       "    <tr>\n",
       "      <th>2</th>\n",
       "      <td>Midmarket</td>\n",
       "      <td>France</td>\n",
       "      <td>Carretera</td>\n",
       "      <td>0</td>\n",
       "      <td>2178.0</td>\n",
       "    </tr>\n",
       "    <tr>\n",
       "      <th>3</th>\n",
       "      <td>Midmarket</td>\n",
       "      <td>Germany</td>\n",
       "      <td>Carretera</td>\n",
       "      <td>0</td>\n",
       "      <td>888.0</td>\n",
       "    </tr>\n",
       "    <tr>\n",
       "      <th>4</th>\n",
       "      <td>Midmarket</td>\n",
       "      <td>Mexico</td>\n",
       "      <td>Carretera</td>\n",
       "      <td>0</td>\n",
       "      <td>2470.0</td>\n",
       "    </tr>\n",
       "    <tr>\n",
       "      <th>5</th>\n",
       "      <td>Government</td>\n",
       "      <td>Germany</td>\n",
       "      <td>Carretera</td>\n",
       "      <td>0</td>\n",
       "      <td>1513.0</td>\n",
       "    </tr>\n",
       "    <tr>\n",
       "      <th>6</th>\n",
       "      <td>Midmarket</td>\n",
       "      <td>Germany</td>\n",
       "      <td>Montana</td>\n",
       "      <td>0</td>\n",
       "      <td>921.0</td>\n",
       "    </tr>\n",
       "    <tr>\n",
       "      <th>7</th>\n",
       "      <td>Channel Partners</td>\n",
       "      <td>Canada</td>\n",
       "      <td>Montana</td>\n",
       "      <td>0</td>\n",
       "      <td>2518.0</td>\n",
       "    </tr>\n",
       "    <tr>\n",
       "      <th>8</th>\n",
       "      <td>Government</td>\n",
       "      <td>France</td>\n",
       "      <td>Montana</td>\n",
       "      <td>0</td>\n",
       "      <td>1899.0</td>\n",
       "    </tr>\n",
       "    <tr>\n",
       "      <th>9</th>\n",
       "      <td>Channel Partners</td>\n",
       "      <td>Germany</td>\n",
       "      <td>Montana</td>\n",
       "      <td>0</td>\n",
       "      <td>1545.0</td>\n",
       "    </tr>\n",
       "  </tbody>\n",
       "</table>\n",
       "</div>"
      ],
      "text/plain": [
       "                Place  Country      Block  Level    Cost\n",
       "man                                                     \n",
       "1          Government  Germany  Carretera      0  1321.0\n",
       "2           Midmarket   France  Carretera      0  2178.0\n",
       "3           Midmarket  Germany  Carretera      0   888.0\n",
       "4           Midmarket   Mexico  Carretera      0  2470.0\n",
       "5          Government  Germany  Carretera      0  1513.0\n",
       "6           Midmarket  Germany    Montana      0   921.0\n",
       "7    Channel Partners   Canada    Montana      0  2518.0\n",
       "8          Government   France    Montana      0  1899.0\n",
       "9    Channel Partners  Germany    Montana      0  1545.0"
      ]
     },
     "execution_count": 17,
     "metadata": {},
     "output_type": "execute_result"
    }
   ],
   "source": [
    "k2[:9]"
   ]
  },
  {
   "cell_type": "code",
   "execution_count": 18,
   "metadata": {},
   "outputs": [
    {
     "data": {
      "text/html": [
       "<div>\n",
       "<style scoped>\n",
       "    .dataframe tbody tr th:only-of-type {\n",
       "        vertical-align: middle;\n",
       "    }\n",
       "\n",
       "    .dataframe tbody tr th {\n",
       "        vertical-align: top;\n",
       "    }\n",
       "\n",
       "    .dataframe thead th {\n",
       "        text-align: right;\n",
       "    }\n",
       "</style>\n",
       "<table border=\"1\" class=\"dataframe\">\n",
       "  <thead>\n",
       "    <tr style=\"text-align: right;\">\n",
       "      <th></th>\n",
       "      <th>Place</th>\n",
       "      <th>Cost</th>\n",
       "    </tr>\n",
       "    <tr>\n",
       "      <th>man</th>\n",
       "      <th></th>\n",
       "      <th></th>\n",
       "    </tr>\n",
       "  </thead>\n",
       "  <tbody>\n",
       "    <tr>\n",
       "      <th>2</th>\n",
       "      <td>Midmarket</td>\n",
       "      <td>2178.0</td>\n",
       "    </tr>\n",
       "    <tr>\n",
       "      <th>8</th>\n",
       "      <td>Government</td>\n",
       "      <td>1899.0</td>\n",
       "    </tr>\n",
       "    <tr>\n",
       "      <th>22</th>\n",
       "      <td>Midmarket</td>\n",
       "      <td>549.0</td>\n",
       "    </tr>\n",
       "    <tr>\n",
       "      <th>32</th>\n",
       "      <td>Enterprise</td>\n",
       "      <td>1804.0</td>\n",
       "    </tr>\n",
       "    <tr>\n",
       "      <th>40</th>\n",
       "      <td>Midmarket</td>\n",
       "      <td>2178.0</td>\n",
       "    </tr>\n",
       "    <tr>\n",
       "      <th>42</th>\n",
       "      <td>Government</td>\n",
       "      <td>1527.0</td>\n",
       "    </tr>\n",
       "    <tr>\n",
       "      <th>43</th>\n",
       "      <td>Small Business</td>\n",
       "      <td>2151.0</td>\n",
       "    </tr>\n",
       "    <tr>\n",
       "      <th>45</th>\n",
       "      <td>Government</td>\n",
       "      <td>2750.0</td>\n",
       "    </tr>\n",
       "    <tr>\n",
       "      <th>48</th>\n",
       "      <td>Government</td>\n",
       "      <td>1899.0</td>\n",
       "    </tr>\n",
       "  </tbody>\n",
       "</table>\n",
       "</div>"
      ],
      "text/plain": [
       "              Place    Cost\n",
       "man                        \n",
       "2         Midmarket  2178.0\n",
       "8        Government  1899.0\n",
       "22        Midmarket   549.0\n",
       "32       Enterprise  1804.0\n",
       "40        Midmarket  2178.0\n",
       "42       Government  1527.0\n",
       "43   Small Business  2151.0\n",
       "45       Government  2750.0\n",
       "48       Government  1899.0"
      ]
     },
     "execution_count": 18,
     "metadata": {},
     "output_type": "execute_result"
    }
   ],
   "source": [
    "k2.loc[k2[\"Block\"] == \"Carretera\"]\n",
    "# where above method will tell us that i need the all the details from the data-frame\n",
    "# k2 where the Block is \"Carretera\"\n",
    "k2[[\"Place\",\"Cost\"]].loc[k2[\"Country\"] == 'France'][:9]# this [:9] will give first 9 results!!\n",
    "# The above example will tell me that i need the Place and Cost  from data_frame where\n",
    "# the Country name is \"France\" from the data-frame"
   ]
  },
  {
   "cell_type": "code",
   "execution_count": 22,
   "metadata": {},
   "outputs": [
    {
     "name": "stdout",
     "output_type": "stream",
     "text": [
      "              Place  Country      Block  Level    Cost\n",
      "man                                                   \n",
      "1        Government  Germany  Carretera      0  1321.0\n",
      "3         Midmarket  Germany  Carretera      0   888.0\n",
      "4         Midmarket   Mexico  Carretera      0  2470.0\n",
      "5        Government  Germany  Carretera      0  1513.0\n",
      "6         Midmarket  Germany    Montana      0   921.0\n",
      "..              ...      ...        ...    ...     ...\n",
      "689       Midmarket  Germany        VTT      3   492.0\n",
      "691       Midmarket  Germany        VTT      3  1175.0\n",
      "693      Enterprise  Germany        VTT      3   552.0\n",
      "696  Small Business   Mexico   Amarilla      3   546.0\n",
      "697      Government   Mexico    Montana      3  1368.0\n",
      "\n",
      "[280 rows x 5 columns]\n",
      "(280, 5)\n",
      "[['Government' 'Germany' 'Carretera' 0 1321.0]\n",
      " ['Midmarket' 'Germany' 'Carretera' 0 888.0]\n",
      " ['Midmarket' 'Mexico' 'Carretera' 0 2470.0]\n",
      " ...\n",
      " ['Enterprise' 'Germany' 'VTT' 3 552.0]\n",
      " ['Small Business' 'Mexico' 'Amarilla' 3 546.0]\n",
      " ['Government' 'Mexico' 'Montana' 3 1368.0]]\n",
      "{'Germany': [1, 3, 5, 6, 9, 13, 19, 20, 30, 33, 34, 35, 39, 41, 47, 49, 64, 79, 80, 88, 92, 100, 109, 113, 124, 125, 126, 132, 133, 137, 139, 140, 145, 146, 149, 152, 154, 158, 159, 162, 164, 168, 171, 175, 181, 184, 186, 189, 190, 210, 213, 214, 222, 224, 227, 234, 251, 254, 261, 264, 268, 271, 279, 281, 289, 306, 309, 323, 331, 334, 338, 341, 344, 348, 354, 366, 369, 371, 372, 373, 376, 377, 378, 380, 385, 389, 391, 396, 398, 399, 412, 420, 424, 429, 431, 438, 440, 442, 446, 449, ...], 'Mexico': [4, 10, 12, 17, 21, 23, 24, 31, 59, 65, 66, 68, 78, 84, 93, 94, 105, 106, 111, 114, 122, 127, 129, 130, 131, 136, 138, 167, 170, 173, 176, 177, 187, 198, 200, 207, 208, 209, 216, 219, 220, 221, 228, 233, 235, 239, 253, 275, 280, 291, 295, 297, 300, 310, 312, 314, 315, 340, 343, 351, 361, 363, 370, 374, 379, 381, 382, 387, 397, 400, 401, 404, 413, 414, 418, 422, 426, 435, 439, 443, 445, 448, 451, 452, 464, 477, 478, 480, 489, 500, 508, 511, 513, 518, 523, 524, 527, 530, 532, 533, ...]}\n",
      "            Level         Cost\n",
      "Country                       \n",
      "Germany  1.814286  1439.242857\n",
      "Mexico   2.071429  1452.321429\n"
     ]
    },
    {
     "data": {
      "text/html": [
       "<div>\n",
       "<style scoped>\n",
       "    .dataframe tbody tr th:only-of-type {\n",
       "        vertical-align: middle;\n",
       "    }\n",
       "\n",
       "    .dataframe tbody tr th {\n",
       "        vertical-align: top;\n",
       "    }\n",
       "\n",
       "    .dataframe thead tr th {\n",
       "        text-align: left;\n",
       "    }\n",
       "\n",
       "    .dataframe thead tr:last-of-type th {\n",
       "        text-align: right;\n",
       "    }\n",
       "</style>\n",
       "<table border=\"1\" class=\"dataframe\">\n",
       "  <thead>\n",
       "    <tr>\n",
       "      <th></th>\n",
       "      <th colspan=\"8\" halign=\"left\">Level</th>\n",
       "      <th colspan=\"8\" halign=\"left\">Cost</th>\n",
       "    </tr>\n",
       "    <tr>\n",
       "      <th></th>\n",
       "      <th>count</th>\n",
       "      <th>mean</th>\n",
       "      <th>std</th>\n",
       "      <th>min</th>\n",
       "      <th>25%</th>\n",
       "      <th>50%</th>\n",
       "      <th>75%</th>\n",
       "      <th>max</th>\n",
       "      <th>count</th>\n",
       "      <th>mean</th>\n",
       "      <th>std</th>\n",
       "      <th>min</th>\n",
       "      <th>25%</th>\n",
       "      <th>50%</th>\n",
       "      <th>75%</th>\n",
       "      <th>max</th>\n",
       "    </tr>\n",
       "    <tr>\n",
       "      <th>Country</th>\n",
       "      <th></th>\n",
       "      <th></th>\n",
       "      <th></th>\n",
       "      <th></th>\n",
       "      <th></th>\n",
       "      <th></th>\n",
       "      <th></th>\n",
       "      <th></th>\n",
       "      <th></th>\n",
       "      <th></th>\n",
       "      <th></th>\n",
       "      <th></th>\n",
       "      <th></th>\n",
       "      <th></th>\n",
       "      <th></th>\n",
       "      <th></th>\n",
       "    </tr>\n",
       "  </thead>\n",
       "  <tbody>\n",
       "    <tr>\n",
       "      <th>Germany</th>\n",
       "      <td>140.0</td>\n",
       "      <td>1.814286</td>\n",
       "      <td>0.978809</td>\n",
       "      <td>0.0</td>\n",
       "      <td>1.0</td>\n",
       "      <td>2.0</td>\n",
       "      <td>3.0</td>\n",
       "      <td>3.0</td>\n",
       "      <td>140.0</td>\n",
       "      <td>1439.242857</td>\n",
       "      <td>827.86986</td>\n",
       "      <td>214.0</td>\n",
       "      <td>794.25</td>\n",
       "      <td>1335.5</td>\n",
       "      <td>1973.75</td>\n",
       "      <td>4219.5</td>\n",
       "    </tr>\n",
       "    <tr>\n",
       "      <th>Mexico</th>\n",
       "      <td>140.0</td>\n",
       "      <td>2.071429</td>\n",
       "      <td>0.918576</td>\n",
       "      <td>0.0</td>\n",
       "      <td>1.0</td>\n",
       "      <td>2.0</td>\n",
       "      <td>3.0</td>\n",
       "      <td>3.0</td>\n",
       "      <td>140.0</td>\n",
       "      <td>1452.321429</td>\n",
       "      <td>777.70218</td>\n",
       "      <td>245.0</td>\n",
       "      <td>725.25</td>\n",
       "      <td>1371.5</td>\n",
       "      <td>2145.00</td>\n",
       "      <td>2993.0</td>\n",
       "    </tr>\n",
       "  </tbody>\n",
       "</table>\n",
       "</div>"
      ],
      "text/plain": [
       "         Level                                                Cost  \\\n",
       "         count      mean       std  min  25%  50%  75%  max  count   \n",
       "Country                                                              \n",
       "Germany  140.0  1.814286  0.978809  0.0  1.0  2.0  3.0  3.0  140.0   \n",
       "Mexico   140.0  2.071429  0.918576  0.0  1.0  2.0  3.0  3.0  140.0   \n",
       "\n",
       "                                                                         \n",
       "                mean        std    min     25%     50%      75%     max  \n",
       "Country                                                                  \n",
       "Germany  1439.242857  827.86986  214.0  794.25  1335.5  1973.75  4219.5  \n",
       "Mexico   1452.321429  777.70218  245.0  725.25  1371.5  2145.00  2993.0  "
      ]
     },
     "execution_count": 22,
     "metadata": {},
     "output_type": "execute_result"
    }
   ],
   "source": [
    "mk = k2.loc[(k2[\"Country\"] == \"Germany\") | (k2[\"Country\"] == \"Mexico\")]\n",
    "print(mk)\n",
    "print(mk.shape)\n",
    "print(mk.values)# this will give you the Values in that Data_frame but it will be \n",
    "# in nested list data format  but not in data_frame  if you need the index's then we\n",
    "# use \".index\" in the place of \".value\"!!\n",
    "j1 = mk.groupby('Country')# this groupby will group the values based on the condition we have\n",
    "# given at first{based on the Country's we have given !!}\n",
    "print(j1.groups)\n",
    "print(j1.mean())# we can perform the operations on the groups \n",
    "j1.get_group(\"Germany\")\n",
    "j1.describe()\n",
    "#j1.describe().unstack()"
   ]
  },
  {
   "attachments": {},
   "cell_type": "markdown",
   "metadata": {},
   "source": [
    "Grouping operations: Split-Apply-Combine operation.\n",
    "By gourping or group by operations we are referring to a process involving one or more of the following steps:\n",
    "\n",
    "* Splitting the data into groups based on some criteria\n",
    "+ Applying a function to each group independently\n",
    "+ Combining the results into a data structure\n",
    "\n",
    "Step1 (Split): The groupby operation splits the dataframe into a group of dataframes based on some criteria. Note\n",
    "that the grouped object is not a dataframe. It is a GroupBy object. It has a dictionary-like structure and is also\n",
    "iterable.\n",
    "\n",
    "Step 2 (Analyze): Once we have a grouped object we can apply functions or run analysis to each group, set of\n",
    "groups, or the entire group.\n",
    "\n",
    "Step 3 (Combine): We can also combine the results of the analysis into a new data structure(s).\n"
   ]
  },
  {
   "attachments": {},
   "cell_type": "markdown",
   "metadata": {},
   "source": [
    "From above method we have seen how we can grouped the (what ever we need to) that and we can perform operations on that group like {.mean,.describe etc} it will show the answer that is applied to the groups that we have grouped !!\n"
   ]
  },
  {
   "attachments": {},
   "cell_type": "markdown",
   "metadata": {},
   "source": [
    "##Basics of Matplotlib"
   ]
  },
  {
   "cell_type": "code",
   "execution_count": 23,
   "metadata": {},
   "outputs": [],
   "source": [
    "%matplotlib inline"
   ]
  },
  {
   "cell_type": "code",
   "execution_count": 29,
   "metadata": {},
   "outputs": [
    {
     "data": {
      "text/plain": [
       "Text(0.5, 0, 'My_firat')"
      ]
     },
     "execution_count": 29,
     "metadata": {},
     "output_type": "execute_result"
    },
    {
     "data": {
      "image/png": "[encoded data removed]",
      "text/plain": [
       "<Figure size 432x288 with 1 Axes>"
      ]
     },
     "metadata": {
      "needs_background": "light"
     },
     "output_type": "display_data"
    }
   ],
   "source": [
    "import matplotlib.pyplot as plt\n",
    "plt.plot([1,2,3,4,5,6,7,389,626])\n",
    "plt.ylabel(\"my-first\",color=\"white\")\n",
    "plt.xlabel(\"My_firat\",color=\"white\")\n"
   ]
  },
  {
   "attachments": {},
   "cell_type": "markdown",
   "metadata": {},
   "source": [
    "the plt.plot will plot the data that we have given and the the data could be anything \n",
    "like a 1D-array or a 2D-array anything@@"
   ]
  },
  {
   "cell_type": "code",
   "execution_count": 45,
   "metadata": {},
   "outputs": [
    {
     "data": {
      "text/plain": [
       "(0.5, 9.0)"
      ]
     },
     "execution_count": 45,
     "metadata": {},
     "output_type": "execute_result"
    },
    {
     "data": {
      "image/png": "[encoded data removed]",
      "text/plain": [
       "<Figure size 432x288 with 1 Axes>"
      ]
     },
     "metadata": {
      "needs_background": "light"
     },
     "output_type": "display_data"
    }
   ],
   "source": [
    "plt.plot([1,47,64,86,32],[43,8,34,7,23],color=\"red\",linewidth = 2)\n",
    "plt.scatter([1,47,64,86,32],[84,26,563,28,43],color = \"blue\")\n",
    "# from above code we can say that the first plot is the base plot for an other plot on the \n",
    "# base plot we use plt.scatter() it scatters the data it wont plot a line through the data\n",
    "\n",
    "# while making the scatter plot wee need to specify the symbol we need that data to vieww\\\n",
    "# like \"^\" as \"marker='^'\" but if we don't specify the symbol the marker it will\n",
    "# it will by default circle!!\n",
    "plt.xlim(0.5,9)# this will change the size of the x axis limits and it kinda a looked\n",
    "# zoomed version of the actual plot of the data same as \"plt.ylim()\"\n"
   ]
  },
  {
   "attachments": {},
   "cell_type": "markdown",
   "metadata": {},
   "source": [
    "matplot1ib.pyplot is a collection of command style functions that make matplotlib work like MATLAB. Each pyplot function makes some\n",
    "change to a figure: e.g., creates a figure, creates a plotting area in a figure, plots some lines in a plotting area, decorates the plot with labels, etc.\n",
    "In matplotlib. pyplot various states are preserved across function calls, so that it keeps track of things like the current figure and plotting area, and\n",
    "the plotting functions are directed to the current subplot.\n"
   ]
  },
  {
   "cell_type": "code",
   "execution_count": 6,
   "metadata": {},
   "outputs": [
    {
     "data": {
      "text/plain": [
       "[<matplotlib.lines.Line2D at 0x1b2b35bc970>]"
      ]
     },
     "execution_count": 6,
     "metadata": {},
     "output_type": "execute_result"
    },
    {
     "data": {
      "image/png": "[encoded data removed]",
      "text/plain": [
       "<Figure size 432x288 with 2 Axes>"
      ]
     },
     "metadata": {
      "needs_background": "light"
     },
     "output_type": "display_data"
    }
   ],
   "source": [
    "import numpy as np\n",
    "import matplotlib.pyplot as plt\n",
    "def vin(t):\n",
    "    return np.exp(t) + (2*np.pi*t)\n",
    "t1 = np.array([74,28,54,72,43])\n",
    "t2 = np.array([85,33,16,37,22])\n",
    "\n",
    "plt.figure()\n",
    "plt.subplot(2,1,1)\n",
    "plt.plot(t1,vin(t1),'bo')\n",
    "plt.subplot(2,1,2)\n",
    "plt.plot(t2,vin(t2),'r--')"
   ]
  },
  {
   "attachments": {},
   "cell_type": "markdown",
   "metadata": {},
   "source": [
    "in above plot we have created the figure and we have created two sub_plots in the figure\n"
   ]
  },
  {
   "cell_type": "code",
   "execution_count": 14,
   "metadata": {},
   "outputs": [
    {
     "name": "stdout",
     "output_type": "stream",
     "text": [
      "[1, 3, 5, 7, 9, 11, 13, 15, 17, 19, 21, 23, 25, 27, 29] [0, 2, 4, 6, 8, 10, 12, 14, 16, 18, 20, 22, 24, 26, 28]\n"
     ]
    },
    {
     "data": {
      "image/png": "[encoded data removed]",
      "text/plain": [
       "<Figure size 432x288 with 1 Axes>"
      ]
     },
     "metadata": {
      "needs_background": "light"
     },
     "output_type": "display_data"
    }
   ],
   "source": [
    "x = [x for x in range(30) if x%2 != 0]\n",
    "y = [x for x in range(30) if x%2 == 0]\n",
    "fig,vin = plt.subplots()\n",
    "vin.plot(x,y,\"Red\")\n",
    "vin.plot(y,x,\"Blue\")\n",
    "#----------------------------{ FIRST TYPE}------------------------------------------"
   ]
  },
  {
   "cell_type": "code",
   "execution_count": 15,
   "metadata": {},
   "outputs": [
    {
     "data": {
      "text/plain": [
       "[<matplotlib.lines.Line2D at 0x1b2b39992e0>,\n",
       " <matplotlib.lines.Line2D at 0x1b2b3999310>]"
      ]
     },
     "execution_count": 15,
     "metadata": {},
     "output_type": "execute_result"
    },
    {
     "data": {
      "image/png": "[encoded data removed]",
      "text/plain": [
       "<Figure size 432x288 with 1 Axes>"
      ]
     },
     "metadata": {
      "needs_background": "light"
     },
     "output_type": "display_data"
    }
   ],
   "source": [
    "x = [x for x in range(30) if x%2 != 0]\n",
    "y = [x for x in range(30) if x%2 == 0]\n",
    "plt.plot(x,y,\"pink\",y,x,\"skyblue\")\n",
    "#------------------------------------{ Second Type}-------------------------------------"
   ]
  },
  {
   "attachments": {},
   "cell_type": "markdown",
   "metadata": {},
   "source": [
    "the above way of creatng plots is called OOI modle {The Object-Oriented Interface} "
   ]
  },
  {
   "attachments": {},
   "cell_type": "markdown",
   "metadata": {},
   "source": [
    "From below way we can create the sub_plots easily by specifying the ncols and nrows\n"
   ]
  },
  {
   "cell_type": "code",
   "execution_count": 24,
   "metadata": {},
   "outputs": [
    {
     "name": "stdout",
     "output_type": "stream",
     "text": [
      "<class 'numpy.ndarray'>\n"
     ]
    },
    {
     "data": {
      "image/png": "[encoded data removed]",
      "text/plain": [
       "<Figure size 432x288 with 4 Axes>"
      ]
     },
     "metadata": {},
     "output_type": "display_data"
    }
   ],
   "source": [
    "# we can create miltipul sub plots with one single line\n",
    "fig,bb = plt.subplots(ncols = 2,nrows=2)\n",
    "# in this the bb is numpy array so we can loop through it!!\n",
    "print(type(bb))\n",
    "for i in bb.flat:\n",
    "    i.set(xticks=[],yticks = [])# the .set(xticks  = [],yticks = []) will remove the \n",
    "    # stops on the x and y axes \n",
    "\n",
    "fig.tight_layout()# this fig.tight_layout() will make not to over lap the sub_plots on \n",
    "#other!!\n",
    "\n"
   ]
  },
  {
   "cell_type": "code",
   "execution_count": 36,
   "metadata": {},
   "outputs": [
    {
     "data": {
      "image/png": "[encoded data removed]",
      "text/plain": [
       "<Figure size 432x288 with 1 Axes>"
      ]
     },
     "metadata": {
      "needs_background": "light"
     },
     "output_type": "display_data"
    },
    {
     "data": {
      "image/png": "[encoded data removed]",
      "text/plain": [
       "<Figure size 432x288 with 2 Axes>"
      ]
     },
     "metadata": {
      "needs_background": "light"
     },
     "output_type": "display_data"
    }
   ],
   "source": [
    "import matplotlib.pyplot as plt\n",
    "import numpy as np\n",
    "x1 = np.cos([x for x in range(0,100) if x%2 !=0])\n",
    "x2 = np.sin([x for x in range(0,100) if x%2 !=0])\n",
    "plt.plot(x1,'+')\n",
    "plt.scatter(x1,x2,color = \"red\",)\n",
    "fig,ax = plt.subplots(2)\n",
    "ax[0].plot(x1,x2,linewidth=2)\n",
    "ax[1].scatter(x1,x2,color = 'red')\n",
    "\n",
    "fig.tight_layout()\n",
    "# from above method we can create the two sub_plot using the ooi standard form!!"
   ]
  },
  {
   "cell_type": "code",
   "execution_count": 80,
   "metadata": {},
   "outputs": [
    {
     "data": {
      "image/png": "[encoded data removed]",
      "text/plain": [
       "<Figure size 432x288 with 2 Axes>"
      ]
     },
     "metadata": {
      "needs_background": "light"
     },
     "output_type": "display_data"
    }
   ],
   "source": [
    "x = np.linspace(0, 2 * np.pi, 4000)\n",
    "y = np.sin(x ** 2)\n",
    "fig, (ax1, ax2) = plt.subplots(1, 2, subplot_kw=dict(projection='polar'))\n",
    "ax1.plot(x, y)\n",
    "ax2.plot(x, y ** 2)\n",
    "\n",
    "plt.show()"
   ]
  },
  {
   "attachments": {},
   "cell_type": "markdown",
   "metadata": {},
   "source": [
    "##Common Customizations"
   ]
  },
  {
   "cell_type": "code",
   "execution_count": 129,
   "metadata": {},
   "outputs": [
    {
     "name": "stdout",
     "output_type": "stream",
     "text": [
      "[0.         0.00785477 0.01570953 0.0235643  0.03141907 0.03927384\n",
      " 0.0471286  0.05498337 0.06283814]\n"
     ]
    },
    {
     "data": {
      "image/png": "[encoded data removed]",
      "text/plain": [
       "<Figure size 432x288 with 1 Axes>"
      ]
     },
     "metadata": {
      "needs_background": "light"
     },
     "output_type": "display_data"
    }
   ],
   "source": [
    "x = np.linspace(0, 25 * np.pi, 10000)\n",
    "fig,ax = plt.subplots()\n",
    "ax.plot(x,np.sin(x),color = \"red\")\n",
    "ax.plot(x,-np.sin(x),color = \"blue\")\n",
    "print(x[:9])\n",
    "#ax.set(xticks=[],yticks=[])\n",
    "ax.set_xlim(-1)# this will decide what is the limit of the x_axis and The y_axis and also it is used for Zoom too!!\n",
    "ax.set_ylim(-1)# this will decide what is the limit of the x_axis and The y_axis and also it is used for Zoom too!!\n",
    "ax.grid(True)\n",
    "#ax.set_xticks([-np.pi*2,-np.pi,0,np.pi,np.pi*2,np.pi*3])# this are limited limits but the plot will be full\n",
    "#ax.set_yticks([-1,0,1])# same but if you give .grid then the grid will stop at the end of the ticks!!it wont pass more than that!!\n"
   ]
  },
  {
   "attachments": {},
   "cell_type": "markdown",
   "metadata": {},
   "source": [
    "The .set_xlim() function is differ than the .set_xtricks() function because when we use xlim() it means that we are telling how much of the original plot we need to show it is like a Zoom but when we use .grid onit it will grid the whole plot based on the limits given!!\n",
    "But when it comes to the .set_xtricks() function it is differ because when we are using this we are giving the our own values in the x or y axes in the plot which is irrespective of the plot size \n",
    "this is the reason  if we use grid on_it it will only grids the plot up_to the last x or ytricks of the plot after that last limit it will be un un_grided "
   ]
  },
  {
   "cell_type": "code",
   "execution_count": null,
   "metadata": {},
   "outputs": [],
   "source": []
  }
 ],
 "metadata": {
  "kernelspec": {
   "display_name": "Python 3.9.13 64-bit (microsoft store)",
   "language": "python",
   "name": "python3"
  },
  "language_info": {
   "codemirror_mode": {
    "name": "ipython",
    "version": 3
   },
   "file_extension": ".py",
   "mimetype": "text/x-python",
   "name": "python",
   "nbconvert_exporter": "python",
   "pygments_lexer": "ipython3",
   "version": "3.9.13 (tags/v3.9.13:6de2ca5, May 17 2022, 16:36:42) [MSC v.1929 64 bit (AMD64)]"
  },
  "orig_nbformat": 4,
  "vscode": {
   "interpreter": {
    "hash": "a22a9922ef4709b6291657f8d21670c244e2ebcbe2ef937abb73994b4724c4b6"
   }
  }
 },
 "nbformat": 4,
 "nbformat_minor": 2
}
